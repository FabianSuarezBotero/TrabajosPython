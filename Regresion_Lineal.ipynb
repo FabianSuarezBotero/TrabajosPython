{
  "nbformat": 4,
  "nbformat_minor": 0,
  "metadata": {
    "colab": {
      "name": "Regresion Lineal.ipynb",
      "provenance": [],
      "authorship_tag": "ABX9TyNuM3a9cK/7CBbRAIewjnta",
      "include_colab_link": true
    },
    "kernelspec": {
      "name": "python3",
      "display_name": "Python 3"
    },
    "language_info": {
      "name": "python"
    }
  },
  "cells": [
    {
      "cell_type": "markdown",
      "metadata": {
        "id": "view-in-github",
        "colab_type": "text"
      },
      "source": [
        "<a href=\"https://colab.research.google.com/github/FabianSuarezBotero/TrabajosPython/blob/main/Regresion_Lineal.ipynb\" target=\"_parent\"><img src=\"https://colab.research.google.com/assets/colab-badge.svg\" alt=\"Open In Colab\"/></a>"
      ]
    },
    {
      "cell_type": "code",
      "metadata": {
        "colab": {
          "base_uri": "https://localhost:8080/",
          "height": 282
        },
        "id": "KMBiIWcS6rM3",
        "outputId": "5bafda73-f90d-41b1-c16c-2ed36003113b"
      },
      "source": [
        "import numpy as np #manipular valores numericos\n",
        "import matplotlib.pyplot as plt #graficar\n",
        "\n",
        "n = 10 # Número de datos\n",
        "m = 0.7\n",
        "b = 0.2\n",
        "amplitud_ruido = 0.3\n",
        "x = np.random.rand(n) # genera n números entre 0 y 1\n",
        "y = np.random.rand(n)*amplitud_ruido + (m*x  + b) # agrega ruido a la recta\n",
        "\n",
        "plt.scatter(x, y)"
      ],
      "execution_count": null,
      "outputs": [
        {
          "output_type": "execute_result",
          "data": {
            "text/plain": [
              "<matplotlib.collections.PathCollection at 0x7f92ff1cf990>"
            ]
          },
          "metadata": {},
          "execution_count": 1
        },
        {
          "output_type": "display_data",
          "data": {
            "image/png": "[encoded data removed]",
            "text/plain": [
              "<Figure size 432x288 with 1 Axes>"
            ]
          },
          "metadata": {
            "needs_background": "light"
          }
        }
      ]
    },
    {
      "cell_type": "code",
      "metadata": {
        "id": "JiUr-V6j_JxI"
      },
      "source": [
        "x = np.array (x)\n",
        "y = np.array (y)\n",
        "suma_x = sum(x)\n",
        "suma_y = sum(y)\n",
        "suma_x2 = sum(x*x)\n",
        "suma_y2 = sum(y*y)\n",
        "suma_xy = sum(x*y)\n",
        "promedio_x = sum(x)/n\n",
        "promedio_y = sum(y)/n"
      ],
      "execution_count": null,
      "outputs": []
    },
    {
      "cell_type": "code",
      "metadata": {
        "colab": {
          "base_uri": "https://localhost:8080/",
          "height": 295
        },
        "id": "tixt9Hy5TvOQ",
        "outputId": "a5f37508-98ff-4e2d-ac2c-8759a0a9ae17"
      },
      "source": [
        "plt.plot (x, y, '*', color = 'black')\n",
        "plt.plot (x, m*x + b, color = 'pink')\n",
        "plt.xlabel ('x')\n",
        "plt.ylabel ('y')\n",
        "plt.title ('Regresión lineal de datos')\n",
        "plt.grid()\n",
        "plt.show()"
      ],
      "execution_count": null,
      "outputs": [
        {
          "output_type": "display_data",
          "data": {
            "image/png": "[encoded data removed]",
            "text/plain": [
              "<Figure size 432x288 with 1 Axes>"
            ]
          },
          "metadata": {
            "needs_background": "light"
          }
        }
      ]
    }
  ]
}